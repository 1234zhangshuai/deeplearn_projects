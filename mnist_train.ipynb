{
 "cells": [
  {
   "cell_type": "code",
   "execution_count": 46,
   "metadata": {
    "scrolled": true
   },
   "outputs": [
    {
     "name": "stdout",
     "output_type": "stream",
     "text": [
      "Train on 40000 samples, validate on 20000 samples\n",
      "Epoch 1/20\n",
      "40000/40000 [==============================] - 3s 64us/step - loss: 0.3086 - acc: 0.9104 - val_loss: 0.1702 - val_acc: 0.9502\n",
      "Epoch 2/20\n",
      "40000/40000 [==============================] - 2s 61us/step - loss: 0.1317 - acc: 0.9611 - val_loss: 0.1130 - val_acc: 0.9678\n",
      "Epoch 3/20\n",
      "40000/40000 [==============================] - 2s 60us/step - loss: 0.0857 - acc: 0.9744 - val_loss: 0.1097 - val_acc: 0.9668\n",
      "Epoch 4/20\n",
      "40000/40000 [==============================] - 2s 55us/step - loss: 0.0617 - acc: 0.9813 - val_loss: 0.0943 - val_acc: 0.9711\n",
      "Epoch 5/20\n",
      "40000/40000 [==============================] - 2s 50us/step - loss: 0.0452 - acc: 0.9866 - val_loss: 0.0840 - val_acc: 0.9746\n",
      "Epoch 6/20\n",
      "40000/40000 [==============================] - 2s 52us/step - loss: 0.0336 - acc: 0.9904 - val_loss: 0.0811 - val_acc: 0.9768\n",
      "Epoch 7/20\n",
      "40000/40000 [==============================] - 2s 60us/step - loss: 0.0259 - acc: 0.9923 - val_loss: 0.0844 - val_acc: 0.9758\n",
      "Epoch 8/20\n",
      "40000/40000 [==============================] - 3s 65us/step - loss: 0.0201 - acc: 0.9943 - val_loss: 0.1015 - val_acc: 0.9715\n",
      "Epoch 9/20\n",
      "40000/40000 [==============================] - 3s 65us/step - loss: 0.0154 - acc: 0.9956 - val_loss: 0.0918 - val_acc: 0.9759\n",
      "Epoch 10/20\n",
      "40000/40000 [==============================] - 2s 61us/step - loss: 0.0114 - acc: 0.9970 - val_loss: 0.1007 - val_acc: 0.9731\n",
      "Epoch 11/20\n",
      "40000/40000 [==============================] - 3s 66us/step - loss: 0.0087 - acc: 0.9980 - val_loss: 0.0933 - val_acc: 0.9768\n",
      "Epoch 12/20\n",
      "40000/40000 [==============================] - 2s 55us/step - loss: 0.0065 - acc: 0.9984 - val_loss: 0.0926 - val_acc: 0.9780\n",
      "Epoch 13/20\n",
      "40000/40000 [==============================] - 3s 64us/step - loss: 0.0049 - acc: 0.9990 - val_loss: 0.1023 - val_acc: 0.9760\n",
      "Epoch 14/20\n",
      "40000/40000 [==============================] - 2s 62us/step - loss: 0.0038 - acc: 0.9990 - val_loss: 0.1084 - val_acc: 0.9769\n",
      "Epoch 15/20\n",
      "40000/40000 [==============================] - 3s 68us/step - loss: 0.0028 - acc: 0.9994 - val_loss: 0.1027 - val_acc: 0.9768\n",
      "Epoch 16/20\n",
      "40000/40000 [==============================] - 2s 59us/step - loss: 0.0024 - acc: 0.9995 - val_loss: 0.1019 - val_acc: 0.9789\n",
      "Epoch 17/20\n",
      "40000/40000 [==============================] - 2s 55us/step - loss: 0.0016 - acc: 0.9996 - val_loss: 0.1140 - val_acc: 0.9777\n",
      "Epoch 18/20\n",
      "40000/40000 [==============================] - 2s 60us/step - loss: 0.0013 - acc: 0.9996 - val_loss: 0.1068 - val_acc: 0.9789\n",
      "Epoch 19/20\n",
      "40000/40000 [==============================] - 2s 54us/step - loss: 8.7365e-04 - acc: 0.9998 - val_loss: 0.1138 - val_acc: 0.9777\n",
      "Epoch 20/20\n",
      "40000/40000 [==============================] - 2s 56us/step - loss: 6.5820e-04 - acc: 0.9999 - val_loss: 0.1068 - val_acc: 0.9803\n",
      "10000/10000 [==============================] - 0s 36us/step\n"
     ]
    }
   ],
   "source": [
    "from keras.datasets import mnist\n",
    "from keras import models\n",
    "from keras import layers\n",
    "from keras.utils import to_categorical\n",
    "\n",
    "(train_images, train_labels), (test_images, test_labels) = mnist.load_data()\n",
    "\n",
    "train_images = train_images.reshape((60000, 28 * 28))\n",
    "train_images = train_images.astype('float32') / 255\n",
    "\n",
    "test_images = test_images.reshape((10000, 28 * 28))\n",
    "test_images = test_images.astype('float32') / 255\n",
    "\n",
    "train_labels = to_categorical(train_labels)\n",
    "test_labels = to_categorical(test_labels)\n",
    "\n",
    "x_val = train_images[:20000]\n",
    "partial_x_train = train_images[20000:]\n",
    "\n",
    "y_val = train_labels[:20000]\n",
    "partial_y_train = train_labels[20000:]\n",
    "\n",
    "\n",
    "network = models.Sequential()\n",
    "network.add(layers.Dense(512, activation='relu', input_shape=(28*28,)))\n",
    "network.add(layers.Dense(10, activation='softmax'))\n",
    "\n",
    "network.compile(optimizer='rmsprop', loss='categorical_crossentropy', metrics=['accuracy'])\n",
    "\n",
    "history = network.fit(partial_x_train, partial_y_train, epochs=20, batch_size=128, validation_data=(x_val, y_val))\n",
    "test_loss, test_acc = network.evaluate(test_images, test_labels)"
   ]
  },
  {
   "cell_type": "code",
   "execution_count": 47,
   "metadata": {},
   "outputs": [
    {
     "name": "stdout",
     "output_type": "stream",
     "text": [
      "test_acc: 0.9809\n"
     ]
    }
   ],
   "source": [
    "print('test_acc:', test_acc)"
   ]
  },
  {
   "cell_type": "code",
   "execution_count": 48,
   "metadata": {},
   "outputs": [],
   "source": [
    "history_dict = history.history"
   ]
  },
  {
   "cell_type": "code",
   "execution_count": 49,
   "metadata": {},
   "outputs": [
    {
     "data": {
      "text/plain": [
       "dict_keys(['val_loss', 'val_acc', 'loss', 'acc'])"
      ]
     },
     "execution_count": 49,
     "metadata": {},
     "output_type": "execute_result"
    }
   ],
   "source": [
    "history_dict.keys()"
   ]
  },
  {
   "cell_type": "code",
   "execution_count": 50,
   "metadata": {},
   "outputs": [
    {
     "data": {
      "image/png": "[encoded data removed]",
      "text/plain": [
       "<Figure size 432x288 with 1 Axes>"
      ]
     },
     "metadata": {
      "needs_background": "light"
     },
     "output_type": "display_data"
    }
   ],
   "source": [
    "import matplotlib.pyplot as plt\n",
    "\n",
    "history_dict = history.history\n",
    "loss_values = history_dict['loss']\n",
    "val_loss_values = history_dict['val_loss']\n",
    "\n",
    "epochs = range(1, len(loss_values) + 1)\n",
    "\n",
    "plt.plot(epochs, loss_values, 'bo', label='Training loss')\n",
    "plt.plot(epochs, val_loss_values, 'b', label='Validation loss')\n",
    "\n",
    "plt.title('Training and validation loss')\n",
    "\n",
    "plt.xlabel('Epochs')\n",
    "plt.ylabel('Loss')\n",
    "plt.legend()\n",
    "\n",
    "plt.show()"
   ]
  },
  {
   "cell_type": "code",
   "execution_count": 51,
   "metadata": {},
   "outputs": [
    {
     "data": {
      "image/png": "[encoded data removed]",
      "text/plain": [
       "<Figure size 432x288 with 1 Axes>"
      ]
     },
     "metadata": {
      "needs_background": "light"
     },
     "output_type": "display_data"
    }
   ],
   "source": [
    "plt.clf()\n",
    "\n",
    "acc = history_dict['acc']\n",
    "val_acc = history_dict['val_acc']\n",
    "\n",
    "plt.plot(epochs, val_acc, 'bo', label='Training acc')\n",
    "plt.plot(epochs, acc, 'b', label='Validation acc')\n",
    "\n",
    "plt.title('Training and validation acc')\n",
    "\n",
    "plt.xlabel('Epochs')\n",
    "plt.ylabel('Acc')\n",
    "\n",
    "plt.legend()\n",
    "\n",
    "plt.show()"
   ]
  },
  {
   "cell_type": "code",
   "execution_count": 52,
   "metadata": {},
   "outputs": [],
   "source": [
    "predictions = network.predict(test_images)"
   ]
  },
  {
   "cell_type": "code",
   "execution_count": 53,
   "metadata": {},
   "outputs": [
    {
     "name": "stdout",
     "output_type": "stream",
     "text": [
      "[[8.0789969e-15 3.0667143e-20 4.9133229e-13 ... 1.0000000e+00\n",
      "  7.1623703e-16 6.8349046e-12]\n",
      " [6.9563542e-22 5.9805968e-16 1.0000000e+00 ... 0.0000000e+00\n",
      "  2.3937719e-17 2.0886891e-33]\n",
      " [1.8092266e-13 9.9999917e-01 2.1047970e-09 ... 1.1447231e-07\n",
      "  7.2424598e-07 5.0652759e-12]\n",
      " ...\n",
      " [1.4542224e-27 4.8825887e-20 6.9998436e-24 ... 4.1665107e-14\n",
      "  2.3709947e-12 7.7242823e-11]\n",
      " [3.8461803e-22 6.4347756e-23 1.8406260e-26 ... 6.4342509e-26\n",
      "  4.2752926e-11 2.6701102e-24]\n",
      " [1.3350630e-23 2.6857994e-33 6.6915423e-23 ... 9.5699816e-33\n",
      "  9.6743583e-28 1.2382327e-28]]\n"
     ]
    }
   ],
   "source": [
    "print(predictions)"
   ]
  },
  {
   "cell_type": "code",
   "execution_count": 54,
   "metadata": {},
   "outputs": [
    {
     "data": {
      "text/plain": [
       "(10,)"
      ]
     },
     "execution_count": 54,
     "metadata": {},
     "output_type": "execute_result"
    }
   ],
   "source": [
    "predictions[0].shape"
   ]
  },
  {
   "cell_type": "code",
   "execution_count": 55,
   "metadata": {},
   "outputs": [
    {
     "data": {
      "text/plain": [
       "10000.0"
      ]
     },
     "execution_count": 55,
     "metadata": {},
     "output_type": "execute_result"
    }
   ],
   "source": [
    "np.sum(predictions)"
   ]
  },
  {
   "cell_type": "code",
   "execution_count": 56,
   "metadata": {},
   "outputs": [
    {
     "data": {
      "text/plain": [
       "1"
      ]
     },
     "execution_count": 56,
     "metadata": {},
     "output_type": "execute_result"
    }
   ],
   "source": [
    "np.argmax(predictions[5])"
   ]
  },
  {
   "cell_type": "code",
   "execution_count": 57,
   "metadata": {},
   "outputs": [],
   "source": [
    "(train_images, train_labels), (test_images, test_labels) = mnist.load_data()"
   ]
  },
  {
   "cell_type": "code",
   "execution_count": 59,
   "metadata": {},
   "outputs": [
    {
     "data": {
      "image/png": "[encoded data removed]",
      "text/plain": [
       "<Figure size 432x288 with 1 Axes>"
      ]
     },
     "metadata": {
      "needs_background": "light"
     },
     "output_type": "display_data"
    }
   ],
   "source": [
    "tes = test_images[10]\n",
    "\n",
    "plt.imshow(tes, cmap=plt.cm.binary)\n",
    "plt.show()"
   ]
  },
  {
   "cell_type": "code",
   "execution_count": 60,
   "metadata": {},
   "outputs": [
    {
     "data": {
      "text/plain": [
       "5"
      ]
     },
     "execution_count": 60,
     "metadata": {},
     "output_type": "execute_result"
    }
   ],
   "source": [
    "np.argmax(predictions[8])"
   ]
  }
 ],
 "metadata": {
  "kernelspec": {
   "display_name": "Python 3",
   "language": "python",
   "name": "python3"
  },
  "language_info": {
   "codemirror_mode": {
    "name": "ipython",
    "version": 3
   },
   "file_extension": ".py",
   "mimetype": "text/x-python",
   "name": "python",
   "nbconvert_exporter": "python",
   "pygments_lexer": "ipython3",
   "version": "3.7.4"
  }
 },
 "nbformat": 4,
 "nbformat_minor": 2
}
