{
 "cells": [
  {
   "cell_type": "code",
   "execution_count": 26,
   "metadata": {},
   "outputs": [
    {
     "name": "stdout",
     "output_type": "stream",
     "text": [
      "nums of line: 4\n",
      "1\n",
      "2*3\n",
      "4*5*6\n",
      "7*8*9*10\n"
     ]
    }
   ],
   "source": [
    "lines = int(input( \"nums of line: \"))\n",
    "result = []\n",
    "for i in range(1, ( 1 + lines) * lines // 2 + 1):\n",
    "    result.append(str(i))\n",
    "    \n",
    "for i in range(1, lines + 1):\n",
    "    temp,result = result[:i],result[i:]\n",
    "    print('*'.join(temp))"
   ]
  }
 ],
 "metadata": {
  "kernelspec": {
   "display_name": "Python 3",
   "language": "python",
   "name": "python3"
  },
  "language_info": {
   "codemirror_mode": {
    "name": "ipython",
    "version": 3
   },
   "file_extension": ".py",
   "mimetype": "text/x-python",
   "name": "python",
   "nbconvert_exporter": "python",
   "pygments_lexer": "ipython3",
   "version": "3.7.3"
  }
 },
 "nbformat": 4,
 "nbformat_minor": 2
}
