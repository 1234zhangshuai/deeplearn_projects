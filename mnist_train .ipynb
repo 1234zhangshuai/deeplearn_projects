{
 "cells": [
  {
   "cell_type": "code",
   "execution_count": 107,
   "metadata": {
    "scrolled": true
   },
   "outputs": [
    {
     "name": "stdout",
     "output_type": "stream",
     "text": [
      "Train on 40000 samples, validate on 20000 samples\n",
      "Epoch 1/20\n",
      "40000/40000 [==============================] - 3s 69us/step - loss: 0.3048 - acc: 0.9124 - val_loss: 0.1735 - val_acc: 0.9485\n",
      "Epoch 2/20\n",
      "40000/40000 [==============================] - 2s 57us/step - loss: 0.1298 - acc: 0.9625 - val_loss: 0.1253 - val_acc: 0.9634\n",
      "Epoch 3/20\n",
      "40000/40000 [==============================] - 2s 54us/step - loss: 0.0869 - acc: 0.9737 - val_loss: 0.1037 - val_acc: 0.9690\n",
      "Epoch 4/20\n",
      "40000/40000 [==============================] - 2s 57us/step - loss: 0.0623 - acc: 0.9813 - val_loss: 0.0921 - val_acc: 0.9728\n",
      "Epoch 5/20\n",
      "40000/40000 [==============================] - 3s 70us/step - loss: 0.0470 - acc: 0.9856 - val_loss: 0.0914 - val_acc: 0.9738\n",
      "Epoch 6/20\n",
      "40000/40000 [==============================] - 3s 66us/step - loss: 0.0352 - acc: 0.9901 - val_loss: 0.0830 - val_acc: 0.9759\n",
      "Epoch 7/20\n",
      "40000/40000 [==============================] - 2s 57us/step - loss: 0.0271 - acc: 0.9922 - val_loss: 0.0808 - val_acc: 0.9777\n",
      "Epoch 8/20\n",
      "40000/40000 [==============================] - 2s 55us/step - loss: 0.0209 - acc: 0.9937 - val_loss: 0.0878 - val_acc: 0.9754\n",
      "Epoch 9/20\n",
      "40000/40000 [==============================] - 2s 57us/step - loss: 0.0158 - acc: 0.9955 - val_loss: 0.0904 - val_acc: 0.9760\n",
      "Epoch 10/20\n",
      "40000/40000 [==============================] - 2s 58us/step - loss: 0.0125 - acc: 0.9965 - val_loss: 0.0935 - val_acc: 0.9758\n",
      "Epoch 11/20\n",
      "40000/40000 [==============================] - 2s 54us/step - loss: 0.0095 - acc: 0.9977 - val_loss: 0.0950 - val_acc: 0.9772\n",
      "Epoch 12/20\n",
      "40000/40000 [==============================] - 2s 55us/step - loss: 0.0075 - acc: 0.9979 - val_loss: 0.0990 - val_acc: 0.9768\n",
      "Epoch 13/20\n",
      "40000/40000 [==============================] - 2s 59us/step - loss: 0.0056 - acc: 0.9985 - val_loss: 0.0998 - val_acc: 0.9771\n",
      "Epoch 14/20\n",
      "40000/40000 [==============================] - 2s 62us/step - loss: 0.0043 - acc: 0.9989 - val_loss: 0.1044 - val_acc: 0.9768\n",
      "Epoch 15/20\n",
      "40000/40000 [==============================] - 3s 81us/step - loss: 0.0033 - acc: 0.9991 - val_loss: 0.1132 - val_acc: 0.9752\n",
      "Epoch 16/20\n",
      "40000/40000 [==============================] - 2s 59us/step - loss: 0.0029 - acc: 0.9994 - val_loss: 0.1009 - val_acc: 0.9792\n",
      "Epoch 17/20\n",
      "40000/40000 [==============================] - 2s 57us/step - loss: 0.0018 - acc: 0.9995 - val_loss: 0.1052 - val_acc: 0.9787\n",
      "Epoch 18/20\n",
      "40000/40000 [==============================] - 3s 69us/step - loss: 0.0018 - acc: 0.9995 - val_loss: 0.1120 - val_acc: 0.9770\n",
      "Epoch 19/20\n",
      "40000/40000 [==============================] - 2s 58us/step - loss: 0.0012 - acc: 0.9997 - val_loss: 0.1081 - val_acc: 0.9787\n",
      "Epoch 20/20\n",
      "40000/40000 [==============================] - 2s 58us/step - loss: 8.3329e-04 - acc: 0.9999 - val_loss: 0.1136 - val_acc: 0.9778\n",
      "10000/10000 [==============================] - 0s 37us/step\n"
     ]
    }
   ],
   "source": [
    "from keras.datasets import mnist\n",
    "from keras import models\n",
    "from keras import layers\n",
    "from keras.utils import to_categorical\n",
    "\n",
    "(train_images, train_labels), (test_images, test_labels) = mnist.load_data()\n",
    "\n",
    "train_images = train_images.reshape((60000, 28 * 28))\n",
    "train_images = train_images.astype('float32') / 255\n",
    "\n",
    "test_images = test_images.reshape((10000, 28 * 28))\n",
    "test_images = test_images.astype('float32') / 255\n",
    "\n",
    "train_labels = to_categorical(train_labels)\n",
    "test_labels = to_categorical(test_labels)\n",
    "\n",
    "x_val = train_images[:20000]\n",
    "partial_x_train = train_images[20000:]\n",
    "\n",
    "y_val = train_labels[:20000]\n",
    "partial_y_train = train_labels[20000:]\n",
    "\n",
    "\n",
    "network = models.Sequential()\n",
    "network.add(layers.Dense(512, activation='relu', input_shape=(28*28,)))\n",
    "network.add(layers.Dense(10, activation='softmax'))\n",
    "\n",
    "network.compile(optimizer='rmsprop', loss='categorical_crossentropy', metrics=['accuracy'])\n",
    "\n",
    "history = network.fit(partial_x_train, partial_y_train, epochs=20, batch_size=128, validation_data=(x_val, y_val))\n",
    "test_loss, test_acc = network.evaluate(test_images, test_labels)"
   ]
  },
  {
   "cell_type": "code",
   "execution_count": 108,
   "metadata": {},
   "outputs": [
    {
     "name": "stdout",
     "output_type": "stream",
     "text": [
      "test_acc: 0.9791\n"
     ]
    }
   ],
   "source": [
    "print('test_acc:', test_acc)"
   ]
  },
  {
   "cell_type": "code",
   "execution_count": 109,
   "metadata": {},
   "outputs": [],
   "source": [
    "history_dict = history.history"
   ]
  },
  {
   "cell_type": "code",
   "execution_count": 110,
   "metadata": {},
   "outputs": [
    {
     "data": {
      "text/plain": [
       "dict_keys(['val_loss', 'val_acc', 'loss', 'acc'])"
      ]
     },
     "execution_count": 110,
     "metadata": {},
     "output_type": "execute_result"
    }
   ],
   "source": [
    "history_dict.keys()"
   ]
  },
  {
   "cell_type": "code",
   "execution_count": 112,
   "metadata": {},
   "outputs": [
    {
     "data": {
      "image/png": "[encoded data removed]",
      "text/plain": [
       "<Figure size 432x288 with 1 Axes>"
      ]
     },
     "metadata": {
      "needs_background": "light"
     },
     "output_type": "display_data"
    }
   ],
   "source": [
    "import matplotlib.pyplot as plt\n",
    "\n",
    "history_dict = history.history\n",
    "loss_values = history_dict['loss']\n",
    "val_loss_values = history_dict['val_loss']\n",
    "\n",
    "epochs = range(1, len(loss_values) + 1)\n",
    "\n",
    "plt.plot(epochs, loss_values, 'bo', label='Training loss')\n",
    "plt.plot(epochs, val_loss_values, 'b', label='Validation loss')\n",
    "\n",
    "plt.title('Training and validation loss')\n",
    "\n",
    "plt.xlabel('Epochs')\n",
    "plt.ylabel('Loss')\n",
    "plt.legend()\n",
    "\n",
    "plt.show()"
   ]
  },
  {
   "cell_type": "code",
   "execution_count": 114,
   "metadata": {},
   "outputs": [
    {
     "data": {
      "image/png": "[encoded data removed]",
      "text/plain": [
       "<Figure size 432x288 with 1 Axes>"
      ]
     },
     "metadata": {
      "needs_background": "light"
     },
     "output_type": "display_data"
    }
   ],
   "source": [
    "plt.clf()\n",
    "\n",
    "acc = history_dict['acc']\n",
    "val_acc = history_dict['val_acc']\n",
    "\n",
    "plt.plot(epochs, val_acc, 'bo', label='Training acc')\n",
    "plt.plot(epochs, acc, 'b', label='Validation acc')\n",
    "\n",
    "plt.title('Training and validation acc')\n",
    "\n",
    "plt.xlabel('Epochs')\n",
    "plt.ylabel('Acc')\n",
    "\n",
    "plt.legend()\n",
    "\n",
    "plt.show()"
   ]
  },
  {
   "cell_type": "code",
   "execution_count": 116,
   "metadata": {},
   "outputs": [],
   "source": [
    "predictions = network.predict(test_images)"
   ]
  },
  {
   "cell_type": "code",
   "execution_count": 117,
   "metadata": {},
   "outputs": [
    {
     "name": "stdout",
     "output_type": "stream",
     "text": [
      "[[9.8504163e-15 4.4044121e-19 6.9467300e-14 ... 1.0000000e+00\n",
      "  2.5261786e-16 2.6084461e-09]\n",
      " [8.2185596e-24 7.0817517e-19 1.0000000e+00 ... 0.0000000e+00\n",
      "  8.9234993e-19 6.4330608e-37]\n",
      " [5.4366743e-13 9.9999976e-01 1.4050053e-09 ... 1.2892981e-07\n",
      "  1.7875072e-07 4.4454165e-13]\n",
      " ...\n",
      " [8.1933564e-25 2.1775243e-19 5.4661699e-22 ... 5.9764580e-12\n",
      "  7.2663251e-13 6.4216041e-09]\n",
      " [1.2693394e-19 6.0714661e-23 1.1456428e-25 ... 1.3740422e-22\n",
      "  3.2767455e-09 7.7518490e-23]\n",
      " [5.4677366e-21 5.3190061e-32 2.5756806e-22 ... 5.8290143e-30\n",
      "  1.8452799e-26 1.2608936e-27]]\n"
     ]
    }
   ],
   "source": [
    "print(predictions)"
   ]
  },
  {
   "cell_type": "code",
   "execution_count": 118,
   "metadata": {},
   "outputs": [
    {
     "data": {
      "text/plain": [
       "(10,)"
      ]
     },
     "execution_count": 118,
     "metadata": {},
     "output_type": "execute_result"
    }
   ],
   "source": [
    "predictions[0].shape"
   ]
  },
  {
   "cell_type": "code",
   "execution_count": 119,
   "metadata": {},
   "outputs": [
    {
     "data": {
      "text/plain": [
       "10000.0"
      ]
     },
     "execution_count": 119,
     "metadata": {},
     "output_type": "execute_result"
    }
   ],
   "source": [
    "np.sum(predictions)"
   ]
  },
  {
   "cell_type": "code",
   "execution_count": 128,
   "metadata": {},
   "outputs": [
    {
     "data": {
      "text/plain": [
       "1"
      ]
     },
     "execution_count": 128,
     "metadata": {},
     "output_type": "execute_result"
    }
   ],
   "source": [
    "np.argmax(predictions[5])"
   ]
  },
  {
   "cell_type": "code",
   "execution_count": 141,
   "metadata": {},
   "outputs": [],
   "source": [
    "(train_images, train_labels), (test_images, test_labels) = mnist.load_data()"
   ]
  },
  {
   "cell_type": "code",
   "execution_count": 152,
   "metadata": {},
   "outputs": [
    {
     "data": {
      "image/png": "[encoded data removed]",
      "text/plain": [
       "<Figure size 432x288 with 1 Axes>"
      ]
     },
     "metadata": {
      "needs_background": "light"
     },
     "output_type": "display_data"
    }
   ],
   "source": [
    "tes = test_images[10]\n",
    "\n",
    "plt.imshow(dt, cmap=plt.cm.binary)\n",
    "plt.show()"
   ]
  },
  {
   "cell_type": "code",
   "execution_count": 154,
   "metadata": {},
   "outputs": [
    {
     "data": {
      "text/plain": [
       "0"
      ]
     },
     "execution_count": 154,
     "metadata": {},
     "output_type": "execute_result"
    }
   ],
   "source": [
    "np.argmax(predictions[10])"
   ]
  },
  {
   "cell_type": "code",
   "execution_count": null,
   "metadata": {},
   "outputs": [],
   "source": []
  }
 ],
 "metadata": {
  "kernelspec": {
   "display_name": "Python 3",
   "language": "python",
   "name": "python3"
  },
  "language_info": {
   "codemirror_mode": {
    "name": "ipython",
    "version": 3
   },
   "file_extension": ".py",
   "mimetype": "text/x-python",
   "name": "python",
   "nbconvert_exporter": "python",
   "pygments_lexer": "ipython3",
   "version": "3.7.3"
  }
 },
 "nbformat": 4,
 "nbformat_minor": 2
}
